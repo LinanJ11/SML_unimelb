{
  "nbformat": 4,
  "nbformat_minor": 0,
  "metadata": {
    "colab": {
      "name": "Welcome To Colaboratory",
      "provenance": [],
      "collapsed_sections": [],
      "include_colab_link": true
    },
    "kernelspec": {
      "display_name": "Python 3",
      "name": "python3"
    }
  },
  "cells": [
    {
      "cell_type": "markdown",
      "metadata": {
        "id": "view-in-github",
        "colab_type": "text"
      },
      "source": [
        "<a href=\"https://colab.research.google.com/github/LinanJ11/SML_unimelb/blob/master/Welcome_To_Colaboratory.ipynb\" target=\"_parent\"><img src=\"https://colab.research.google.com/assets/colab-badge.svg\" alt=\"Open In Colab\"/></a>"
      ]
    },
    {
      "cell_type": "code",
      "metadata": {
        "id": "CVn62JSNfLcm",
        "colab_type": "code",
        "colab": {
          "base_uri": "https://localhost:8080/",
          "height": 34
        },
        "outputId": "12ad1fa6-3f60-4a2a-b9d1-bcf8ecbfb361"
      },
      "source": [
        "import numpy as np\n",
        "\n",
        "print(\"Loading train data......\")\n",
        "train_data={}\n",
        "with open('train.txt','r') as train:\n",
        "    for line in train:\n",
        "        neighbour_list=[int(i) for i in line.split()]\n",
        "        train_data[neighbour_list[0]]=set([neighbour_list[i+1] for i in range(len(neighbour_list)-1)])"
      ],
      "execution_count": 5,
      "outputs": [
        {
          "output_type": "stream",
          "text": [
            "Loading train data......\n"
          ],
          "name": "stdout"
        }
      ]
    },
    {
      "cell_type": "code",
      "metadata": {
        "id": "zpyFnlqfe7xR",
        "colab_type": "code",
        "colab": {}
      },
      "source": [
        "def get_train_sources_and_sinks(file):\n",
        "    with open(file, 'r') as train:\n",
        "        sources=set()\n",
        "        sinks=set()\n",
        "        for line in train:\n",
        "            neighbour_list=[int(i) for i in line.split()]\n",
        "            sources.add(neighbour_list[0])\n",
        "            for i in range(len(neighbour_list)-1):\n",
        "                sinks.add(neighbour_list[i+1])\n",
        "        return sources,sinks"
      ],
      "execution_count": 6,
      "outputs": []
    },
    {
      "cell_type": "code",
      "metadata": {
        "id": "Hkkd8ZZziBIf",
        "colab_type": "code",
        "colab": {
          "base_uri": "https://localhost:8080/",
          "height": 51
        },
        "outputId": "e924671e-86c8-4a85-f5b9-041b1ad1efd0"
      },
      "source": [
        "train_sources,train_sinks= get_train_sources_and_sinks('train.txt')\n",
        "print(len(train_sources))\n",
        "print(len(train_sinks))"
      ],
      "execution_count": 7,
      "outputs": [
        {
          "output_type": "stream",
          "text": [
            "8417\n",
            "4083451\n"
          ],
          "name": "stdout"
        }
      ]
    },
    {
      "cell_type": "code",
      "metadata": {
        "id": "9_zNCLFWiDZZ",
        "colab_type": "code",
        "colab": {
          "base_uri": "https://localhost:8080/",
          "height": 34
        },
        "outputId": "eee42778-8f61-4745-d9ec-36b475c3ef68"
      },
      "source": [
        "print(\"test only\")"
      ],
      "execution_count": 1,
      "outputs": [
        {
          "output_type": "stream",
          "text": [
            "test only\n"
          ],
          "name": "stdout"
        }
      ]
    },
    {
      "cell_type": "code",
      "metadata": {
        "id": "ZaxNZukNeoDR",
        "colab_type": "code",
        "colab": {}
      },
      "source": [
        ""
      ],
      "execution_count": null,
      "outputs": []
    }
  ]
}