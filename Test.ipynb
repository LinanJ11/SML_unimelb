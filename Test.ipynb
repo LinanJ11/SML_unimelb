{
 "cells": [
  {
   "cell_type": "code",
   "execution_count": 1,
   "metadata": {},
   "outputs": [],
   "source": [
    "import pandas as pd\n",
    "import numpy as np\n",
    "import random\n",
    "import networkx as nx\n",
    "from tqdm import tqdm\n",
    "import re\n",
    "import matplotlib.pyplot as plt\n",
    "\n",
    "from sklearn.linear_model import LogisticRegression\n",
    "from sklearn.metrics import classification_report, roc_auc_score\n",
    "from sklearn.model_selection import train_test_split\n",
    "from sklearn.metrics import confusion_matrix"
   ]
  },
  {
   "cell_type": "code",
   "execution_count": 2,
   "metadata": {},
   "outputs": [],
   "source": [
    "node = []\n",
    "neighbours = []\n",
    "edges = []\n",
    "with open(\"train.txt\", 'r') as f:\n",
    "    for data in f:\n",
    "        converted_data = list(map(int, data.split()))\n",
    "        for i in range(1, len(converted_data)):\n",
    "            node.append(converted_data[0])\n",
    "            neighbours.append(converted_data[i])\n",
    "            edges.append(1)"
   ]
  },
  {
   "cell_type": "code",
   "execution_count": 6,
   "metadata": {},
   "outputs": [],
   "source": [
    "from scipy.sparse import csr_matrix\n",
    "\n",
    "source_sink_matrix=csr_matrix((edges,(node,neighbours)),shape=(4867136,4867136))\n",
    "sink_source_matrix=csr_matrix((edges,(node,neighbours)),shape=(4867136,4867136))"
   ]
  },
  {
   "cell_type": "code",
   "execution_count": 24,
   "metadata": {},
   "outputs": [
    {
     "data": {
      "text/plain": [
       "4867135"
      ]
     },
     "execution_count": 24,
     "metadata": {},
     "output_type": "execute_result"
    }
   ],
   "source": [
    "max_node = 0\n",
    "with open(\"train.txt\", 'r') as f:\n",
    "    for data in f:\n",
    "        converted_data = list(map(int, data.split()))\n",
    "        if max_node < max(converted_data):\n",
    "            max_node = max(converted_data)\n",
    "max_node"
   ]
  },
  {
   "cell_type": "code",
   "execution_count": 10,
   "metadata": {},
   "outputs": [],
   "source": [
    "x = []\n",
    "y = []\n",
    "max_node = 0\n",
    "with open(\"train.txt\", 'r') as f:\n",
    "    for data in f:\n",
    "        converted_data = list(map(int, data.split()))\n",
    "        for i in range(1, len(converted_data)):\n",
    "            x.append(converted_data[0])\n",
    "            y.append(converted_data[i])"
   ]
  },
  {
   "cell_type": "code",
   "execution_count": 11,
   "metadata": {},
   "outputs": [],
   "source": [
    "df = pd.DataFrame({\"node_1\": x, \"node_2\": y})"
   ]
  },
  {
   "cell_type": "code",
   "execution_count": 12,
   "metadata": {},
   "outputs": [
    {
     "name": "stdout",
     "output_type": "stream",
     "text": [
      "   node_1   node_2\n",
      "0  540762  1912140\n",
      "1  540762  1537559\n",
      "2  540762  3091331\n",
      "3  540762  2757277\n",
      "4  540762  3237295\n"
     ]
    }
   ],
   "source": [
    "print(df.head())"
   ]
  },
  {
   "cell_type": "code",
   "execution_count": 25,
   "metadata": {},
   "outputs": [],
   "source": [
    "import networkx as nx\n",
    "\n",
    "Graph = nx.from_pandas_edgelist(df, \"node_1\", \"node_2\", create_using=nx.Graph())"
   ]
  },
  {
   "cell_type": "code",
   "execution_count": null,
   "metadata": {},
   "outputs": [],
   "source": [
    "nodes = x + y\n",
    "nodes = list(dict.fromkeys())"
   ]
  },
  {
   "cell_type": "code",
   "execution_count": 33,
   "metadata": {},
   "outputs": [],
   "source": [
    "import random\n",
    "\n",
    "random.seed(100)\n",
    "def generate_2_random_numbers(_range):\n",
    "    return random.choice(range(_range)), random.choice(range(_range))"
   ]
  },
  {
   "cell_type": "code",
   "execution_count": 34,
   "metadata": {},
   "outputs": [],
   "source": [
    "import random\n",
    "\n",
    "max_sample = 50000\n",
    "max_ID = 4867136\n",
    "random.seed(100)\n",
    "\n",
    "num_negative = 0\n",
    "num_positive = 0\n",
    "negative_sample_x = []\n",
    "negative_sample_y = []\n",
    "positive_sample_x = []\n",
    "positive_sample_y = []\n",
    "\n",
    "while num_negative < max_sample and num_positive < max_sample:\n",
    "    node, target = generate_2_random_numbers(max_ID)\n",
    "    if source_sink_matrix[node, target] == 1:\n",
    "        positive_sample_x.append((node, target))\n",
    "        positive_sample_y.append(1)\n",
    "        num_positive = num_positive + 1\n",
    "    else:\n",
    "        negative_sample_x.append((node, target))\n",
    "        negative_sample_y.append(0)\n",
    "        num_negative = num_negative + 1"
   ]
  },
  {
   "cell_type": "code",
   "execution_count": null,
   "metadata": {},
   "outputs": [],
   "source": []
  }
 ],
 "metadata": {
  "kernelspec": {
   "display_name": "Python 3",
   "language": "python",
   "name": "python3"
  }
 },
 "nbformat": 4,
 "nbformat_minor": 2
}
